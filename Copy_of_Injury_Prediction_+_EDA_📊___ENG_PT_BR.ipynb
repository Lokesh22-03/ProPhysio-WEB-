{
  "cells": [
    {
      "cell_type": "markdown",
      "metadata": {
        "id": "6TyIRA1D1v5l"
      },
      "source": [
        "## 3. Importing Libraries and Data<span style=\"color:#275317\"> | </span> <span style=\"color:#009644\"> Importando Bibliotecas e Dados </span> <a id=\"3\"></a>"
      ]
    },
    {
      "cell_type": "code",
      "execution_count": null,
      "metadata": {
        "colab": {
          "base_uri": "https://localhost:8080/"
        },
        "execution": {
          "iopub.execute_input": "2024-03-13T03:33:09.237119Z",
          "iopub.status.busy": "2024-03-13T03:33:09.236734Z",
          "iopub.status.idle": "2024-03-13T03:33:12.887352Z",
          "shell.execute_reply": "2024-03-13T03:33:12.885794Z",
          "shell.execute_reply.started": "2024-03-13T03:33:09.237086Z"
        },
        "id": "lpKoa_9t1v5m",
        "outputId": "b8039ceb-b35d-4f68-ab77-ea248077194b",
        "trusted": true
      },
      "outputs": [],
      "source": [
        "import pandas as pd\n",
        "import matplotlib\n",
        "import matplotlib.pyplot as plt\n",
        "import seaborn as sns\n",
        "import numpy as np\n",
        "import sklearn\n",
        "from platform import python_version\n",
        "from sklearn.preprocessing import OneHotEncoder\n",
        "from sklearn.model_selection import train_test_split\n",
        "from sklearn.ensemble import ExtraTreesClassifier, AdaBoostClassifier\n",
        "from sklearn.svm import NuSVC\n",
        "from sklearn.tree import ExtraTreeClassifier\n",
        "from lightgbm import LGBMClassifier\n",
        "from sklearn.metrics import classification_report, accuracy_score, recall_score\n",
        "from sklearn.metrics import confusion_matrix\n",
        "from sklearn.metrics import roc_curve, roc_auc_score\n",
        "\n",
        "\n",
        "# Libraries and Python version | Versão das bibliotecas e do Python\n",
        "library = {\n",
        "    \"Pandas\": pd,\n",
        "    \"Matplotlib\": matplotlib,\n",
        "    \"Seaborn\": sns,\n",
        "    \"NumPy\": np,\n",
        "    \"Scikit-Learn\": sklearn,\n",
        "    }\n",
        "\n",
        "# Libraries version\n",
        "print(\"Library Version:\\n\")\n",
        "print(f\"{'':-^20} | {'':-^10}\")\n",
        "print(f\"{'Library':^20} | {'Version':^10}\")\n",
        "print(f\"{'':-^20} | {'':-^10}\")\n",
        "\n",
        "for nome, library in sorted(library.items()):\n",
        "    print(f\"{nome:<20} | {library.__version__:>10}\")\n",
        "\n",
        "# Python Version\n",
        "print()\n",
        "print(f\"Python Version: {python_version()}\")"
      ]
    },
    {
      "cell_type": "code",
      "execution_count": null,
      "metadata": {
        "colab": {
          "base_uri": "https://localhost:8080/",
          "height": 206
        },
        "execution": {
          "iopub.execute_input": "2024-03-13T03:33:12.890777Z",
          "iopub.status.busy": "2024-03-13T03:33:12.890096Z",
          "iopub.status.idle": "2024-03-13T03:33:12.933511Z",
          "shell.execute_reply": "2024-03-13T03:33:12.932236Z",
          "shell.execute_reply.started": "2024-03-13T03:33:12.890736Z"
        },
        "id": "PuWpaPH31v5m",
        "outputId": "4223752a-4316-43ab-8854-1ef0d2f8dcf6",
        "scrolled": true,
        "trusted": true
      },
      "outputs": [],
      "source": [
        "# Importing df | Importando df\n",
        "df = pd.read_csv('injury_data.csv')\n",
        "\n",
        "\n",
        "df['Player_Weight'] = df['Player_Weight'].round(2)\n",
        "df['Player_Height'] = df['Player_Height'].round(2)\n",
        "df['Training_Intensity'] = df['Training_Intensity'].round(2)\n",
        "\n",
        "# View df_vg | Visualizar df_vg\n",
        "df.head(5)"
      ]
    },
    {
      "cell_type": "code",
      "execution_count": null,
      "metadata": {
        "colab": {
          "base_uri": "https://localhost:8080/",
          "height": 423
        },
        "id": "gfOoTPAS3ESa",
        "outputId": "94ebfb7e-4d9a-44bb-d92a-c931826e1dda"
      },
      "outputs": [],
      "source": [
        "df"
      ]
    },
    {
      "cell_type": "code",
      "execution_count": 46,
      "metadata": {
        "colab": {
          "base_uri": "https://localhost:8080/",
          "height": 269
        },
        "execution": {
          "iopub.execute_input": "2024-03-13T03:33:12.944601Z",
          "iopub.status.busy": "2024-03-13T03:33:12.94409Z",
          "iopub.status.idle": "2024-03-13T03:33:12.968181Z",
          "shell.execute_reply": "2024-03-13T03:33:12.967056Z",
          "shell.execute_reply.started": "2024-03-13T03:33:12.944575Z"
        },
        "id": "SDekzi7y1v5n",
        "outputId": "4ec86caf-f375-4742-f354-59d300281354",
        "trusted": true
      },
      "outputs": [],
      "source": [
        "# Creating DataFrame with Dtype, Unique, and Null information | Criando Df com informações Dtype, Unique e Null\n",
        "df_info = pd.DataFrame(df.dtypes, columns=['Dtype'])\n",
        "df_info['Unique'] = df.nunique().values\n",
        "df_info['Null'] = df.isnull().sum().values\n",
        "df_info"
      ]
    },
    {
      "cell_type": "code",
      "execution_count": 47,
      "metadata": {
        "colab": {
          "base_uri": "https://localhost:8080/",
          "height": 300
        },
        "execution": {
          "iopub.execute_input": "2024-03-13T03:33:12.97048Z",
          "iopub.status.busy": "2024-03-13T03:33:12.970079Z",
          "iopub.status.idle": "2024-03-13T03:33:13.008747Z",
          "shell.execute_reply": "2024-03-13T03:33:13.007477Z",
          "shell.execute_reply.started": "2024-03-13T03:33:12.970445Z"
        },
        "id": "80Rpm4s61v5o",
        "outputId": "e6edc398-fdc6-4e19-fcf2-424771beaabe",
        "trusted": true
      },
      "outputs": [],
      "source": [
        "# Df Describe\n",
        "with pd.option_context(\n",
        "    \"display.float_format\",\n",
        "    \"{:.2f}\".format,\n",
        "    \"display.max_columns\",\n",
        "    None,\n",
        "):\n",
        "    display(df.describe())"
      ]
    },
    {
      "cell_type": "code",
      "execution_count": null,
      "metadata": {
        "colab": {
          "base_uri": "https://localhost:8080/",
          "height": 101
        },
        "execution": {
          "iopub.execute_input": "2024-03-13T03:33:13.010554Z",
          "iopub.status.busy": "2024-03-13T03:33:13.010147Z",
          "iopub.status.idle": "2024-03-13T03:33:13.035454Z",
          "shell.execute_reply": "2024-03-13T03:33:13.034538Z",
          "shell.execute_reply.started": "2024-03-13T03:33:13.010517Z"
        },
        "id": "rK1OKAYB1v5p",
        "outputId": "4cb003c3-053d-4e31-a052-312d49d9c4d3",
        "trusted": true
      },
      "outputs": [],
      "source": [
        "# Calculate the Body Mass Index (BMI) | Calcular o Índice de Massa Corporal (IMC)\n",
        "df['BMI'] = df['Player_Weight'] / (df['Player_Height'] / 100) ** 2\n",
        "\n",
        "# Defining gaps for BMI classification | Definir os intervalos para classificação do IMC\n",
        "gaps = [-float('inf'), 18.5, 24.9, 29.9, 34.9, 39.9, float('inf')]\n",
        "categories = ['Underweight', 'Normal', 'Overweight', 'Obesity I', 'Obesity II', 'Obesity III']\n",
        "\n",
        "# Create \"BMI_Classification\" column | Criar a coluna \"Classificação_IMC\"\n",
        "df['BMI_Classification'] = pd.cut(df['BMI'], bins=gaps, labels=categories, right=False)\n",
        "\n",
        "df.head(1)"
      ]
    },
    {
      "cell_type": "code",
      "execution_count": null,
      "metadata": {
        "colab": {
          "base_uri": "https://localhost:8080/"
        },
        "execution": {
          "iopub.execute_input": "2024-03-13T03:33:13.037494Z",
          "iopub.status.busy": "2024-03-13T03:33:13.036603Z",
          "iopub.status.idle": "2024-03-13T03:33:13.046916Z",
          "shell.execute_reply": "2024-03-13T03:33:13.04616Z",
          "shell.execute_reply.started": "2024-03-13T03:33:13.037466Z"
        },
        "id": "me12jt6T1v5q",
        "outputId": "195380ee-ae6a-4cd5-d403-e799ba16910a",
        "trusted": true
      },
      "outputs": [],
      "source": [
        "# Finding the youngest and oldest age among athletes | Descobrindo a idade mais nova e mais velha entre os atletas\n",
        "print('Player Age Min: {}'.format(df.Player_Age.min()))\n",
        "print('Player Age Max: {}'.format(df.Player_Age.max()))"
      ]
    },
    {
      "cell_type": "code",
      "execution_count": null,
      "metadata": {
        "colab": {
          "base_uri": "https://localhost:8080/",
          "height": 226
        },
        "execution": {
          "iopub.execute_input": "2024-03-13T03:33:13.048476Z",
          "iopub.status.busy": "2024-03-13T03:33:13.04815Z",
          "iopub.status.idle": "2024-03-13T03:33:13.070235Z",
          "shell.execute_reply": "2024-03-13T03:33:13.069193Z",
          "shell.execute_reply.started": "2024-03-13T03:33:13.048449Z"
        },
        "id": "nWbcjNnk1v5q",
        "outputId": "3a8dce4e-88e5-4223-d225-acdd97e11879",
        "scrolled": true,
        "trusted": true
      },
      "outputs": [],
      "source": [
        "# Creating columns with grouping | Criando colunas com agrupamento\n",
        "df[\"Age_Group\"] = pd.cut(\n",
        "    df[\"Player_Age\"],\n",
        "    bins=[18, 22, 26, 30, 34, df[\"Player_Age\"].max()],\n",
        "    labels=[\"18-22\", \"23-26\", \"27-30\", \"31-34\", \"35+\"],\n",
        "    include_lowest=True,\n",
        ")\n",
        "\n",
        "df.head(5)"
      ]
    },
    {
      "cell_type": "markdown",
      "metadata": {
        "id": "_r80Pd0X1v5q"
      },
      "source": [
        "### Defining functions to plot graphs  <span style=\"color:#275317\"> | </span> <span style=\"color:#009644\"> Definindo funções para plotagem de gráfico </span>\n"
      ]
    },
    {
      "cell_type": "code",
      "execution_count": 51,
      "metadata": {
        "_kg_hide-input": true,
        "id": "ErVSmtG-1v5q"
      },
      "outputs": [],
      "source": [
        "import warnings\n",
        "warnings.simplefilter(action='ignore', category=FutureWarning)"
      ]
    },
    {
      "cell_type": "code",
      "execution_count": 52,
      "metadata": {
        "execution": {
          "iopub.execute_input": "2024-03-13T03:38:02.588686Z",
          "iopub.status.busy": "2024-03-13T03:38:02.588206Z",
          "iopub.status.idle": "2024-03-13T03:38:02.610162Z",
          "shell.execute_reply": "2024-03-13T03:38:02.609061Z",
          "shell.execute_reply.started": "2024-03-13T03:38:02.588648Z"
        },
        "id": "C09IdV1K1v5r",
        "trusted": true
      },
      "outputs": [],
      "source": [
        "def plot_histogram_kde_and_boxplot(dataframe, column, color_column):\n",
        "    fig, axs = plt.subplots(1, 3, figsize=(18, 6))\n",
        "\n",
        "    # Remove grid and spines | Remover o grid e as bordas\n",
        "    for ax in axs:\n",
        "        ax.grid(False)\n",
        "        for spine in ax.spines.values():\n",
        "            spine.set_visible(False)\n",
        "\n",
        "    # Plot histogram (subplot 1) | Plotar histograma (subplot 1)\n",
        "    sns.histplot(data=dataframe, x=column, bins=20, color='skyblue', edgecolor='black', kde=True, ax=axs[0])\n",
        "\n",
        "    # Add labels | Adicionar rótulos\n",
        "    axs[0].set_xlabel('')\n",
        "    axs[0].set_ylabel('')\n",
        "    axs[0].set_title(f'{column} Histogram', weight='bold', size=13)\n",
        "\n",
        "    # Plot KDE (subplot 2) | Plotar KDE (subplot 2)\n",
        "    sns.kdeplot(data=dataframe, x=column, color='skyblue', fill=True, hue=color_column, palette={0: 'green', 1: 'red'}, ax=axs[1])\n",
        "    axs[1].set_xlabel('')\n",
        "    axs[1].set_ylabel('')\n",
        "    axs[1].set_title(f'{column} Density', weight='bold', size=13)\n",
        "\n",
        "    # Plot boxplot (subplot 3) | Plotar boxplot (subplot 3)\n",
        "    sns.boxplot(data=dataframe[column], orient='h', ax=axs[2])\n",
        "\n",
        "    # Add labels | Adicionar rótulos\n",
        "    axs[2].set_xlabel('')\n",
        "    axs[2].set_ylabel('')\n",
        "    axs[2].set_title(f'{column} Boxplot', weight='bold', size=13)\n",
        "\n",
        "    # Adjust layout | Ajustar o layout\n",
        "    plt.tight_layout()\n",
        "\n",
        "    # Display figure | Exibir a figura\n",
        "    plt.show()\n",
        "\n",
        "\n",
        "def plot_dual_chart(dataframe, column1, column2, cat_order=None, y_limit1=None, y_limit2=None):\n",
        "    fig, axs = plt.subplots(1, 2, figsize=(18, 6))\n",
        "\n",
        "    # Remove grid and spines | Remover o grid e as bordas\n",
        "    for ax in axs:\n",
        "        ax.grid(False)\n",
        "        for spine in ax.spines.values():\n",
        "            spine.set_visible(False)\n",
        "\n",
        "    # Plot histogram | Plotar histograma\n",
        "    sns.histplot(data=dataframe, x=column1, bins=20, color='skyblue', edgecolor='black', kde=True, ax=axs[0])\n",
        "    axs[0].set_title(f'{column1} Histogram', weight='bold', size=13)\n",
        "    axs[0].set_xlabel('')\n",
        "    axs[0].set_ylabel('')\n",
        "\n",
        "    # Define y limit | Definir limite y\n",
        "    if y_limit1 is None:\n",
        "        y_limit1 = dataframe[column1].max() * 1.1\n",
        "    axs[0].set_ylim(top=y_limit1)\n",
        "\n",
        "    # Plot two sets of bars | Plotar os dois conjuntos de barras\n",
        "    ax = sns.countplot(data=dataframe, x=column2, hue='Likelihood_of_Injury', palette={0: 'green', 1: 'red'}, ax=axs[1], linewidth=2, order=cat_order)\n",
        "\n",
        "    # Add labels | Adicionar rótulos\n",
        "    axs[1].set_xlabel('')\n",
        "    axs[1].set_ylabel('')\n",
        "    axs[1].set_title(f'{column2} x Likelihood_of_Injury', weight='bold', size=13)\n",
        "\n",
        "    # Rotate x-axis labels | Rotacionar os rótulos do eixo x\n",
        "    axs[1].tick_params(axis='x', rotation=0)\n",
        "\n",
        "    # Remove background grid | Remover a grade de fundo\n",
        "    axs[1].grid(False)\n",
        "\n",
        "    # Add legend | Adicionar legenda\n",
        "    axs[1].legend()\n",
        "\n",
        "    # Define upper limit | Definir limite superior\n",
        "    if y_limit2 is None:\n",
        "        y_limit2 = dataframe[column2].value_counts().max() * 1.1  # Max value multiplied by 1.1 to ensure a margin\n",
        "    axs[1].set_ylim(top=y_limit2)\n",
        "\n",
        "    # Add values on top of each bar | Adicionar valores em cima de cada barra\n",
        "    for p in axs[1].patches:\n",
        "        height = p.get_height()\n",
        "        if not np.isnan(height):\n",
        "            axs[1].annotate(str(int(height)), (p.get_x() + p.get_width() / 2., height),\n",
        "                            ha='center', va='center', xytext=(0, 5), textcoords='offset points', color='black', weight='bold', size=13)\n",
        "        else:\n",
        "            axs[1].annotate(\"0\", (p.get_x() + p.get_width() / 2., 0),\n",
        "                            ha='center', va='center', xytext=(0, 5), textcoords='offset points', color='black', weight='bold', size=13)\n",
        "\n",
        "    # Adjust layout | Ajustar layout\n",
        "    plt.tight_layout()\n",
        "\n",
        "    # Display figure | Exibir a figura\n",
        "    plt.show()\n",
        "\n"
      ]
    },
    {
      "cell_type": "code",
      "execution_count": null,
      "metadata": {
        "colab": {
          "base_uri": "https://localhost:8080/",
          "height": 384
        },
        "execution": {
          "iopub.execute_input": "2024-03-13T03:38:08.84633Z",
          "iopub.status.busy": "2024-03-13T03:38:08.845905Z",
          "iopub.status.idle": "2024-03-13T03:38:09.712783Z",
          "shell.execute_reply": "2024-03-13T03:38:09.71174Z",
          "shell.execute_reply.started": "2024-03-13T03:38:08.846297Z"
        },
        "id": "ZA9zdAZg1v5r",
        "outputId": "e6d89544-c8ad-49fa-c517-51fdec474135",
        "trusted": true
      },
      "outputs": [],
      "source": [
        "plot_dual_chart(df, 'Player_Age', 'Age_Group', cat_order=[\"18-22\", \"23-26\", \"27-30\", \"31-34\", \"35+\"], y_limit1=130, y_limit2=160)"
      ]
    },
    {
      "cell_type": "markdown",
      "metadata": {
        "id": "WgNeMK571v5r"
      },
      "source": [
        "### 6.2 BMI_Classification <a id=\"6.2\"></a>"
      ]
    },
    {
      "cell_type": "code",
      "execution_count": null,
      "metadata": {
        "colab": {
          "base_uri": "https://localhost:8080/",
          "height": 384
        },
        "execution": {
          "iopub.execute_input": "2024-03-13T03:38:12.861057Z",
          "iopub.status.busy": "2024-03-13T03:38:12.86064Z",
          "iopub.status.idle": "2024-03-13T03:38:13.564335Z",
          "shell.execute_reply": "2024-03-13T03:38:13.563246Z",
          "shell.execute_reply.started": "2024-03-13T03:38:12.861027Z"
        },
        "id": "c2jwbsIp1v5s",
        "outputId": "a89db1a2-208e-4113-d09d-9fadef970e3e",
        "trusted": true
      },
      "outputs": [],
      "source": [
        "plot_dual_chart(df, 'BMI', 'BMI_Classification', y_limit1=180, y_limit2=350)"
      ]
    },
    {
      "cell_type": "markdown",
      "metadata": {
        "id": "e79YawG_1v5s"
      },
      "source": [
        "### 6.3 Player_Weight <a id=\"6.3\"></a>"
      ]
    },
    {
      "cell_type": "code",
      "execution_count": null,
      "metadata": {
        "colab": {
          "base_uri": "https://localhost:8080/",
          "height": 384
        },
        "execution": {
          "iopub.execute_input": "2024-03-13T03:38:18.05108Z",
          "iopub.status.busy": "2024-03-13T03:38:18.050193Z",
          "iopub.status.idle": "2024-03-13T03:38:18.83431Z",
          "shell.execute_reply": "2024-03-13T03:38:18.833129Z",
          "shell.execute_reply.started": "2024-03-13T03:38:18.051047Z"
        },
        "id": "kQnx5BSZ1v5s",
        "outputId": "816eb41e-2dd6-411a-b14b-97796ecbe950",
        "trusted": true
      },
      "outputs": [],
      "source": [
        "plot_histogram_kde_and_boxplot(df, 'Player_Weight', 'Likelihood_of_Injury')"
      ]
    },
    {
      "cell_type": "markdown",
      "metadata": {
        "id": "DIhiuBP-1v5s"
      },
      "source": [
        "### 6.4 Player_Height <a id=\"6.4\"></a>"
      ]
    },
    {
      "cell_type": "code",
      "execution_count": null,
      "metadata": {
        "colab": {
          "base_uri": "https://localhost:8080/",
          "height": 384
        },
        "execution": {
          "iopub.execute_input": "2024-03-13T03:38:19.48458Z",
          "iopub.status.busy": "2024-03-13T03:38:19.484211Z",
          "iopub.status.idle": "2024-03-13T03:38:20.305063Z",
          "shell.execute_reply": "2024-03-13T03:38:20.304024Z",
          "shell.execute_reply.started": "2024-03-13T03:38:19.484554Z"
        },
        "id": "TBqcAPGX1v5s",
        "outputId": "76a4774d-a5a4-4b1e-dc3d-316e3f02e4eb",
        "trusted": true
      },
      "outputs": [],
      "source": [
        "plot_histogram_kde_and_boxplot(df, 'Player_Height', 'Likelihood_of_Injury')"
      ]
    },
    {
      "cell_type": "code",
      "execution_count": null,
      "metadata": {
        "colab": {
          "base_uri": "https://localhost:8080/",
          "height": 384
        },
        "execution": {
          "iopub.execute_input": "2024-03-13T03:38:21.254641Z",
          "iopub.status.busy": "2024-03-13T03:38:21.254251Z",
          "iopub.status.idle": "2024-03-13T03:38:22.079829Z",
          "shell.execute_reply": "2024-03-13T03:38:22.078673Z",
          "shell.execute_reply.started": "2024-03-13T03:38:21.254613Z"
        },
        "id": "K1kgjcWt1v5s",
        "outputId": "342166d4-26a4-4925-e1b8-085a5b6ee4be",
        "trusted": true
      },
      "outputs": [],
      "source": [
        "plot_histogram_kde_and_boxplot(df, 'Training_Intensity', 'Likelihood_of_Injury')"
      ]
    },
    {
      "cell_type": "markdown",
      "metadata": {
        "id": "sWV4lynN1v5s"
      },
      "source": [
        "### 6.6 Recovery_Time <a id=\"6.6\"></a>   "
      ]
    },
    {
      "cell_type": "code",
      "execution_count": null,
      "metadata": {
        "colab": {
          "base_uri": "https://localhost:8080/",
          "height": 384
        },
        "execution": {
          "iopub.execute_input": "2024-03-13T03:38:22.604823Z",
          "iopub.status.busy": "2024-03-13T03:38:22.604402Z",
          "iopub.status.idle": "2024-03-13T03:38:23.374083Z",
          "shell.execute_reply": "2024-03-13T03:38:23.372958Z",
          "shell.execute_reply.started": "2024-03-13T03:38:22.60479Z"
        },
        "id": "MQK8T3nS1v5s",
        "outputId": "4c85846f-7ef3-4b19-d507-97d69b864bd4",
        "trusted": true
      },
      "outputs": [],
      "source": [
        "plot_histogram_kde_and_boxplot(df, 'Recovery_Time', 'Likelihood_of_Injury')"
      ]
    },
    {
      "cell_type": "markdown",
      "metadata": {
        "id": "j8N6OsNg1v5t"
      },
      "source": [
        "### 6.7 Previous_Injuries <a id=\"6.7\"></a>"
      ]
    },
    {
      "cell_type": "code",
      "execution_count": null,
      "metadata": {
        "colab": {
          "base_uri": "https://localhost:8080/",
          "height": 384
        },
        "execution": {
          "iopub.execute_input": "2024-03-13T03:38:24.002655Z",
          "iopub.status.busy": "2024-03-13T03:38:24.002267Z",
          "iopub.status.idle": "2024-03-13T03:38:24.78666Z",
          "shell.execute_reply": "2024-03-13T03:38:24.7855Z",
          "shell.execute_reply.started": "2024-03-13T03:38:24.002626Z"
        },
        "id": "ArvjBLsS1v5t",
        "outputId": "bc45d8e6-8d45-4f5c-f495-507c20c28487",
        "scrolled": true,
        "trusted": true
      },
      "outputs": [],
      "source": [
        "plot_histogram_kde_and_boxplot(df, 'Previous_Injuries', 'Likelihood_of_Injury')"
      ]
    },
    {
      "cell_type": "code",
      "execution_count": null,
      "metadata": {
        "colab": {
          "base_uri": "https://localhost:8080/",
          "height": 444
        },
        "execution": {
          "iopub.execute_input": "2024-03-13T03:33:19.129326Z",
          "iopub.status.busy": "2024-03-13T03:33:19.128612Z",
          "iopub.status.idle": "2024-03-13T03:33:19.39657Z",
          "shell.execute_reply": "2024-03-13T03:33:19.395422Z",
          "shell.execute_reply.started": "2024-03-13T03:33:19.129288Z"
        },
        "id": "deV3_GSX1v5t",
        "outputId": "0aadd29c-9f1c-42a5-956d-3a8ac92b3186",
        "trusted": true
      },
      "outputs": [],
      "source": [
        "# Count 'Likelihood_of_Injury' | Contagem 'Likelihood_of_Injury'\n",
        "li_count = df['Likelihood_of_Injury'].value_counts()\n",
        "\n",
        "# Plot pie chart | Plotar o gráfico de pizza\n",
        "plt.figure(figsize=(5, 5))\n",
        "plt.pie(li_count, labels=li_count.index, autopct='%1.1f%%', startangle=140, colors=['#8CFCA4', '#FF6961'])\n",
        "plt.title('Distribution of Likelihood_of_Injury', weight='bold', size=13)\n",
        "plt.axis('equal')\n",
        "plt.show()"
      ]
    },
    {
      "cell_type": "code",
      "execution_count": null,
      "metadata": {
        "colab": {
          "base_uri": "https://localhost:8080/",
          "height": 243
        },
        "execution": {
          "iopub.execute_input": "2024-03-13T03:33:19.399045Z",
          "iopub.status.busy": "2024-03-13T03:33:19.398315Z",
          "iopub.status.idle": "2024-03-13T03:33:19.446707Z",
          "shell.execute_reply": "2024-03-13T03:33:19.445389Z",
          "shell.execute_reply.started": "2024-03-13T03:33:19.399004Z"
        },
        "id": "BSvVnZSV1v51",
        "outputId": "0922a6cf-e977-4c66-cd58-b4e12d63c10b",
        "trusted": true
      },
      "outputs": [],
      "source": [
        "# Categorical columns\n",
        "one_hot_cols = [\n",
        "    \"BMI_Classification\",\n",
        "    \"Age_Group\",\n",
        "]\n",
        "\n",
        "# Selecting only categorical columns from the DataFrame | Selecionando apenas as colunas categóricas do DataFrame\n",
        "df_categorical = df[one_hot_cols]\n",
        "\n",
        "# Applying OneHotEncoder | Aplicando o OneHotEncoder\n",
        "encoder = OneHotEncoder()\n",
        "encoded_data = encoder.fit_transform(df_categorical)\n",
        "\n",
        "# Obtaining names of the features generated by OneHotEncoder | Obtendo os nomes das features geradas pelo OneHotEncoder\n",
        "one_hot_feature_names = encoder.get_feature_names_out(one_hot_cols)\n",
        "\n",
        "# Creating a DataFrame with transformed features | Criando um DataFrame com as features transformadas\n",
        "df_encoded = pd.DataFrame(encoded_data.toarray(), columns=one_hot_feature_names)\n",
        "\n",
        "# Joining DataFrames | Juntar os DataFrames\n",
        "df_final = pd.concat([df, df_encoded], axis=1)\n",
        "\n",
        "# Dropping categorical columns | Excluindo colunas categóricas\n",
        "df_final.drop(columns=['BMI_Classification', 'Age_Group'], inplace=True)\n",
        "\n",
        "# Visualizing the first few rows of the final DataFrame | Visualizar as primeiras linhas do DataFrame final\n",
        "df_final.head()"
      ]
    },
    {
      "cell_type": "markdown",
      "metadata": {
        "id": "tXYUPvwJ1v52"
      },
      "source": [
        "## 8. Correlation Between Columns <span style=\"color:#275317\"> | </span> <span style=\"color:#009644\"> Correlação Entre Colunas </span> <a id=\"8\"></a>"
      ]
    },
    {
      "cell_type": "code",
      "execution_count": null,
      "metadata": {
        "colab": {
          "base_uri": "https://localhost:8080/",
          "height": 770
        },
        "execution": {
          "iopub.execute_input": "2024-03-13T03:33:19.448957Z",
          "iopub.status.busy": "2024-03-13T03:33:19.44829Z",
          "iopub.status.idle": "2024-03-13T03:33:20.646749Z",
          "shell.execute_reply": "2024-03-13T03:33:20.645458Z",
          "shell.execute_reply.started": "2024-03-13T03:33:19.448914Z"
        },
        "id": "duxuCa8S1v52",
        "outputId": "3b9e02eb-7df2-4ca4-a4f6-0383fb8d82d5",
        "trusted": true
      },
      "outputs": [],
      "source": [
        "# Calculating correlation matrix | Calculando a matriz de correlação\n",
        "correlation_matrix = df_final.corr()\n",
        "\n",
        "# Plotting heatmap | Plotando o heatmap\n",
        "plt.figure(figsize=(15, 8))\n",
        "sns.heatmap(correlation_matrix, annot=True, cmap='coolwarm', fmt=\".2f\")\n",
        "plt.title('Heatmap of Correlation Matrix', weight='bold', size=13)\n",
        "plt.show()\n"
      ]
    },
    {
      "cell_type": "markdown",
      "metadata": {
        "id": "lICM05UV1v52"
      },
      "source": [
        "### 8.1 Correlation with 'Likelihood_of_Injury <span style=\"color:#275317\"> | </span> <span style=\"color:#009644\"> Correlação com 'Likelihood_of_Injury'</span> <a id=\"8.1\"></a>"
      ]
    },
    {
      "cell_type": "code",
      "execution_count": null,
      "metadata": {
        "colab": {
          "base_uri": "https://localhost:8080/",
          "height": 607
        },
        "execution": {
          "iopub.execute_input": "2024-03-13T03:33:20.648804Z",
          "iopub.status.busy": "2024-03-13T03:33:20.648331Z",
          "iopub.status.idle": "2024-03-13T03:33:21.076683Z",
          "shell.execute_reply": "2024-03-13T03:33:21.075598Z",
          "shell.execute_reply.started": "2024-03-13T03:33:20.648763Z"
        },
        "id": "u3ayijCn1v52",
        "outputId": "8ec0179b-0788-4ba3-99a5-7c2c3eaa05dd",
        "trusted": true
      },
      "outputs": [],
      "source": [
        "# Calculating correlation matrix | Calcular a matriz de correlação\n",
        "correlation_matrix = df_final.corr()\n",
        "\n",
        "# Selecting only 'Likelihood_of_Injury' column from the correlation matrix | Selecionar apenas a coluna 'Likelihood_of_Injury' da matriz de correlação\n",
        "correlation_with_likelihood = correlation_matrix['Likelihood_of_Injury']\n",
        "\n",
        "# Removing the correlation with the 'Likelihood_of_Injury' column | Remover a correlação com a coluna 'Likelihood_of_Injury'\n",
        "correlation_with_likelihood = correlation_with_likelihood.drop('Likelihood_of_Injury')\n",
        "\n",
        "# Sorting correlations in descending order | Ordenar as correlações em ordem decrescente\n",
        "correlation_with_likelihood = correlation_with_likelihood.sort_values(ascending=False)\n",
        "\n",
        "# Plotting correlation bar plot | Plotar o gráfico de barras de correlação\n",
        "plt.figure(figsize=(10, 6))\n",
        "sns.barplot(x=correlation_with_likelihood.index, y=correlation_with_likelihood.values, palette='coolwarm')\n",
        "plt.xticks(rotation=90, ha='center')\n",
        "plt.xlabel('')\n",
        "plt.ylabel('')\n",
        "plt.box(False)\n",
        "plt.title('Correlation of Columns with Likelihood_of_Injury', weight='bold', size=13)\n",
        "plt.tight_layout()\n",
        "plt.show()\n"
      ]
    },
    {
      "cell_type": "code",
      "execution_count": null,
      "metadata": {
        "colab": {
          "base_uri": "https://localhost:8080/",
          "height": 118
        },
        "execution": {
          "iopub.execute_input": "2024-03-13T03:33:21.078406Z",
          "iopub.status.busy": "2024-03-13T03:33:21.078096Z",
          "iopub.status.idle": "2024-03-13T03:33:21.095662Z",
          "shell.execute_reply": "2024-03-13T03:33:21.094451Z",
          "shell.execute_reply.started": "2024-03-13T03:33:21.078381Z"
        },
        "id": "PE3Wc3M01v52",
        "outputId": "bed39868-56d1-44c2-8c7b-a0cf05967009",
        "trusted": true
      },
      "outputs": [],
      "source": [
        "# Drop columns starting with \"Age_Group\" | Excluir colunas que começa com \"Age_Group\"\n",
        "df_final = df_final.loc[:, ~df_final.columns.str.startswith('Age_Group')]\n",
        "\n",
        "# Drop BMI column | Excluir a coluna BMI\n",
        "df_final = df_final.drop(columns=['BMI'])\n",
        "\n",
        "df_final.head(1)"
      ]
    },
    {
      "cell_type": "markdown",
      "metadata": {
        "id": "hrUKAhWp1v52"
      },
      "source": [
        "## 9. Training Models <span style=\"color:#275317\"> | </span> <span style=\"color:#009644\"> Treinando os Modelos </span> <a id=\"9\"></a>"
      ]
    },
    {
      "cell_type": "code",
      "execution_count": 65,
      "metadata": {
        "execution": {
          "iopub.execute_input": "2024-03-13T03:33:21.09771Z",
          "iopub.status.busy": "2024-03-13T03:33:21.097114Z",
          "iopub.status.idle": "2024-03-13T03:33:21.108465Z",
          "shell.execute_reply": "2024-03-13T03:33:21.107663Z",
          "shell.execute_reply.started": "2024-03-13T03:33:21.097654Z"
        },
        "id": "YWJlaTcs1v53",
        "trusted": true
      },
      "outputs": [],
      "source": [
        "# Features\n",
        "X = df_final.drop('Likelihood_of_Injury', axis=1)\n",
        "\n",
        "# Target variable | Variável alvo\n",
        "y = df_final['Likelihood_of_Injury']\n",
        "\n",
        "# Split data into training and testing sets | Dividir os dados em conjuntos de treinamento e teste\n",
        "X_train, X_test, y_train, y_test = train_test_split(X, y, test_size=0.1, random_state=42)\n"
      ]
    },
    {
      "cell_type": "code",
      "execution_count": null,
      "metadata": {
        "colab": {
          "base_uri": "https://localhost:8080/"
        },
        "execution": {
          "iopub.execute_input": "2024-03-13T03:33:21.110051Z",
          "iopub.status.busy": "2024-03-13T03:33:21.109742Z",
          "iopub.status.idle": "2024-03-13T03:33:21.888735Z",
          "shell.execute_reply": "2024-03-13T03:33:21.887556Z",
          "shell.execute_reply.started": "2024-03-13T03:33:21.110025Z"
        },
        "id": "d7XPMwDY1v53",
        "outputId": "4f09f296-7ce7-4010-e58c-c7f4faf993c7",
        "trusted": true
      },
      "outputs": [],
      "source": [
        "from sklearn.metrics import classification_report, accuracy_score, precision_score, recall_score\n",
        "import joblib\n",
        "\n",
        "# Dictionary models | Dicionário de modelos\n",
        "models = {\n",
        "    \"LGBMClassifier\": LGBMClassifier(),\n",
        "    \"AdaBoostClassifier\": AdaBoostClassifier(),\n",
        "    \"ExtraTreesClassifier\": ExtraTreesClassifier(),\n",
        "    }\n",
        "\n",
        "for model_name, model in models.items():\n",
        "    model.fit(X_train, y_train)\n",
        "    predictions = model.predict(X_test)\n",
        "    recall = recall_score(y_test, predictions)\n",
        "    accuracy = accuracy_score(y_test, predictions)\n",
        "    precision = precision_score(y_test, predictions)\n",
        "\n",
        "    print(f\"Model: {model_name}\")\n",
        "    print(f\"Recall: {recall}\")\n",
        "    print(f\"Accuracy: {accuracy}\")\n",
        "    print(f\"Precision: {precision}\")\n",
        "    print(\"-\" * 50)\n",
        "\n",
        "    joblib.dump(model, 'adaboost_model1.pkl')"
      ]
    },
    {
      "cell_type": "code",
      "execution_count": null,
      "metadata": {
        "colab": {
          "base_uri": "https://localhost:8080/",
          "height": 271
        },
        "execution": {
          "iopub.execute_input": "2024-03-13T03:33:21.890222Z",
          "iopub.status.busy": "2024-03-13T03:33:21.88991Z",
          "iopub.status.idle": "2024-03-13T03:33:22.904571Z",
          "shell.execute_reply": "2024-03-13T03:33:22.903475Z",
          "shell.execute_reply.started": "2024-03-13T03:33:21.890198Z"
        },
        "id": "YK6E5fYV1v53",
        "outputId": "3af838f2-2641-41ea-fa4e-5df0f1639fd5",
        "trusted": true
      },
      "outputs": [],
      "source": [
        "# Create figure and axes\n",
        "fig, axes = plt.subplots(1, len(models), figsize=(15, 3.5))\n",
        "\n",
        "# Plot confusion matrix for each model\n",
        "for ax, (model_name, model) in zip(axes, models.items()):\n",
        "    predictions = model.predict(X_test)\n",
        "    cm = confusion_matrix(y_test, predictions)\n",
        "    sns.heatmap(cm, annot=True, fmt=\"d\", cmap=\"Blues\", cbar=False, ax=ax)\n",
        "    ax.set_title(f\"{model_name}\", weight='bold', size=13)\n",
        "    ax.set_xlabel(\"Predicted\")\n",
        "    ax.set_ylabel(\"True\")\n",
        "\n",
        "# Adjust layout and show figure\n",
        "plt.tight_layout()\n",
        "plt.show()"
      ]
    },
    {
      "cell_type": "code",
      "execution_count": null,
      "metadata": {
        "colab": {
          "base_uri": "https://localhost:8080/",
          "height": 564
        },
        "execution": {
          "iopub.execute_input": "2024-03-13T03:33:22.907082Z",
          "iopub.status.busy": "2024-03-13T03:33:22.906173Z",
          "iopub.status.idle": "2024-03-13T03:33:23.250094Z",
          "shell.execute_reply": "2024-03-13T03:33:23.248929Z",
          "shell.execute_reply.started": "2024-03-13T03:33:22.907042Z"
        },
        "id": "y4QoPn3e1v54",
        "outputId": "4d1e95f3-7f21-493d-fab0-ce76150a7810",
        "trusted": true
      },
      "outputs": [],
      "source": [
        "# Plot Inverted ROC Curve\n",
        "plt.figure(figsize=(8, 6))\n",
        "for model_name, model in models.items():\n",
        "    y_proba = model.predict_proba(X_test)[:, 0]  # Probabilities of belonging to the negative class\n",
        "    fpr, tpr, _ = roc_curve(y_test, y_proba)\n",
        "\n",
        "    tnr = 1 - fpr  # True Negative Rate (TNR)\n",
        "    fnr = 1 - tpr  # False Negative Rate (FNR)\n",
        "\n",
        "    auc = roc_auc_score(y_test, y_proba)\n",
        "    plt.plot(fnr, tnr, label=f'{model_name} (AUC = {auc:.2f})')\n",
        "\n",
        "# Plot the diagonal line\n",
        "plt.plot([0, 1], [0, 1], linestyle='--', color='black')\n",
        "\n",
        "plt.xlabel('False Negative Rate (FNR)')\n",
        "plt.ylabel('True Negative Rate (TNR)')\n",
        "plt.title('Inverted ROC Curve', weight='bold', size=13)\n",
        "plt.legend()\n",
        "\n",
        "plt.box(False)  # Remove plot borders\n",
        "plt.show()"
      ]
    },
    {
      "cell_type": "code",
      "execution_count": null,
      "metadata": {
        "colab": {
          "base_uri": "https://localhost:8080/"
        },
        "id": "qjDxnCZy5Q8J",
        "outputId": "6ae2eb3e-d3db-4bc4-c6e9-757743435867"
      },
      "outputs": [],
      "source": [
        "import joblib\n",
        "\n",
        "# Assuming 'nusvc_model' is your trained NuSVC model\n",
        "nusvc_model = NuSVC()\n",
        "# ... (Your code to train the model) ...\n",
        "\n",
        "# Save the model to a file\n",
        "# joblib.dump(nusvc_model, 'nusvc_model.pkl')\n",
        "\n",
        "# Initialize the AdaBoost model\n",
        "# model = AdaBoostClassifier()\n",
        "\n",
        "# Fit the model with training data\n",
        "model.fit(X_train, y_train)\n",
        "\n",
        "# Save the trained model to a file\n",
        "joblib.dump(model, 'adaboost_model1.pkl')"
      ]
    }
  ],
  "metadata": {
    "colab": {
      "provenance": []
    },
    "kaggle": {
      "accelerator": "none",
      "dataSources": [
        {
          "datasetId": 4488632,
          "sourceId": 7691337,
          "sourceType": "datasetVersion"
        }
      ],
      "isGpuEnabled": false,
      "isInternetEnabled": true,
      "language": "python",
      "sourceType": "notebook"
    },
    "kernelspec": {
      "display_name": "Python 3",
      "language": "python",
      "name": "python3"
    },
    "language_info": {
      "codemirror_mode": {
        "name": "ipython",
        "version": 3
      },
      "file_extension": ".py",
      "mimetype": "text/x-python",
      "name": "python",
      "nbconvert_exporter": "python",
      "pygments_lexer": "ipython3",
      "version": "3.11.4"
    }
  },
  "nbformat": 4,
  "nbformat_minor": 0
}
